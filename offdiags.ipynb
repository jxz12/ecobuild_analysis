{
 "cells": [
  {
   "cell_type": "code",
   "execution_count": null,
   "metadata": {},
   "outputs": [],
   "source": [
    "\"\"\"\n",
    "SELECT level_index, matrix\n",
    "  FROM playthroughs\n",
    "  WHERE level_index>100\n",
    "  INTO OUTFILE 'C:/ProgramData/MySQL/MySQL Server 8.0/Uploads/offdiags.txt';\n",
    "\"\"\""
   ]
  },
  {
   "cell_type": "code",
   "execution_count": 15,
   "metadata": {},
   "outputs": [],
   "source": [
    "import pandas as pd\n",
    "import networkx as nx\n",
    "import seaborn as sns\n",
    "import numpy as np\n",
    "import matplotlib.pyplot as plt\n",
    "import math"
   ]
  },
  {
   "cell_type": "code",
   "execution_count": 27,
   "metadata": {},
   "outputs": [
    {
     "name": "stdout",
     "output_type": "stream",
     "text": [
      "0.3816000165980834 [0.11660017 0.80410015]\n",
      "0.00019480500000000004 5.00726999999999e-06 0.06677299999999996\n"
     ]
    },
    {
     "data": {
      "text/plain": [
       "<matplotlib.lines.Line2D at 0x7fab2cd1e550>"
      ]
     },
     "execution_count": 27,
     "metadata": {},
     "output_type": "execute_result"
    },
    {
     "data": {
      "image/png": "[encoded data removed]",
      "text/plain": [
       "<Figure size 432x288 with 1 Axes>"
      ]
     },
     "metadata": {
      "needs_background": "light"
     },
     "output_type": "display_data"
    }
   ],
   "source": [
    "from collections import defaultdict\n",
    "\n",
    "def unnormalise(val, minval, maxval):\n",
    "    logmin = math.log(minval)\n",
    "    logmax = math.log(maxval)\n",
    "    return (math.log(val) - logmin) / (logmax - logmin)\n",
    "\n",
    "def normalise(val, minval, maxval):\n",
    "    return (minval ** (1-val)) * (maxval ** val);\n",
    "\n",
    "offdiags = defaultdict(list)\n",
    "with open('offdiags.txt') as f:\n",
    "    for line in f:\n",
    "        lid,matrix = line.split('\\t')\n",
    "        lid = int(lid)\n",
    "\n",
    "        if len(matrix.split(':')) != 3:\n",
    "            continue\n",
    "\n",
    "        A,b,x = matrix.split(':')\n",
    "        \n",
    "        for row, data in enumerate(A.split(';')):\n",
    "            for col, datum in enumerate(data.split(',')):\n",
    "                val = float(datum)\n",
    "                if row!=col and val < 0:\n",
    "                    norm = unnormalise(-val, 1e-6, 1)\n",
    "                    offdiags[lid].append(norm)\n",
    "\n",
    "dist = np.concatenate((offdiags[101], offdiags[102], offdiags[103]))\n",
    "sns.distplot(dist)\n",
    "\n",
    "med = np.median(dist)\n",
    "conf = np.percentile(dist, [2.5,97.5])\n",
    "print(med, conf)\n",
    "print(normalise(med, 1e-6,1), normalise(conf[0], 1e-6,1), normalise(conf[1], 1e-6,1))\n",
    "plt.axvline(med)\n",
    "plt.axvline(conf[0])\n",
    "plt.axvline(conf[1])"
   ]
  },
  {
   "cell_type": "code",
   "execution_count": null,
   "metadata": {},
   "outputs": [],
   "source": []
  }
 ],
 "metadata": {
  "kernelspec": {
   "display_name": "Python 3",
   "language": "python",
   "name": "python3"
  },
  "language_info": {
   "codemirror_mode": {
    "name": "ipython",
    "version": 3
   },
   "file_extension": ".py",
   "mimetype": "text/x-python",
   "name": "python",
   "nbconvert_exporter": "python",
   "pygments_lexer": "ipython3",
   "version": "3.6.9"
  }
 },
 "nbformat": 4,
 "nbformat_minor": 4
}
