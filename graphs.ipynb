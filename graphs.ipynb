{
 "cells": [
  {
   "cell_type": "code",
   "execution_count": null,
   "metadata": {},
   "outputs": [],
   "source": [
    "\"\"\"\n",
    "SELECT c.username, c.team, a.level_index, a.score, b.matrix\n",
    "  FROM leaderboards AS a\n",
    "  JOIN playthroughs AS b ON a.play_id=b.play_id\n",
    "  JOIN players AS c ON a.username=c.username\n",
    "  WHERE a.level_index=101\n",
    "  ORDER BY a.score DESC\n",
    "  LIMIT 10\n",
    "  INTO OUTFILE 'C:/ProgramData/MySQL/MySQL Server 8.0/Uploads/graphs.txt';\n",
    "\"\"\""
   ]
  },
  {
   "cell_type": "code",
   "execution_count": 15,
   "metadata": {},
   "outputs": [],
   "source": [
    "import pandas as pd\n",
    "import networkx as nx\n",
    "import math"
   ]
  },
  {
   "cell_type": "code",
   "execution_count": 16,
   "metadata": {},
   "outputs": [],
   "source": [
    "r0 = 1.71e-6\n",
    "z0 = 4.15e-8\n",
    "beta = .75"
   ]
  },
  {
   "cell_type": "code",
   "execution_count": 18,
   "metadata": {},
   "outputs": [
    {
     "ename": "ValueError",
     "evalue": "not enough values to unpack (expected 5, got 4)",
     "output_type": "error",
     "traceback": [
      "\u001b[0;31m---------------------------------------------------------------------------\u001b[0m",
      "\u001b[0;31mValueError\u001b[0m                                Traceback (most recent call last)",
      "\u001b[0;32m<ipython-input-18-ea8e1094b732>\u001b[0m in \u001b[0;36m<module>\u001b[0;34m\u001b[0m\n\u001b[1;32m      2\u001b[0m \u001b[0;32mwith\u001b[0m \u001b[0mopen\u001b[0m\u001b[0;34m(\u001b[0m\u001b[0;34m'graphs.txt'\u001b[0m\u001b[0;34m)\u001b[0m \u001b[0;32mas\u001b[0m \u001b[0mf\u001b[0m\u001b[0;34m:\u001b[0m\u001b[0;34m\u001b[0m\u001b[0;34m\u001b[0m\u001b[0m\n\u001b[1;32m      3\u001b[0m     \u001b[0;32mfor\u001b[0m \u001b[0mline\u001b[0m \u001b[0;32min\u001b[0m \u001b[0mf\u001b[0m\u001b[0;34m:\u001b[0m\u001b[0;34m\u001b[0m\u001b[0;34m\u001b[0m\u001b[0m\n\u001b[0;32m----> 4\u001b[0;31m         \u001b[0mname\u001b[0m\u001b[0;34m,\u001b[0m\u001b[0mteam\u001b[0m\u001b[0;34m,\u001b[0m\u001b[0midx\u001b[0m\u001b[0;34m,\u001b[0m\u001b[0mscore\u001b[0m\u001b[0;34m,\u001b[0m\u001b[0mmatrix\u001b[0m \u001b[0;34m=\u001b[0m \u001b[0mline\u001b[0m\u001b[0;34m.\u001b[0m\u001b[0msplit\u001b[0m\u001b[0;34m(\u001b[0m\u001b[0;34m'\\t'\u001b[0m\u001b[0;34m)\u001b[0m\u001b[0;34m\u001b[0m\u001b[0;34m\u001b[0m\u001b[0m\n\u001b[0m\u001b[1;32m      5\u001b[0m         \u001b[0mteam\u001b[0m \u001b[0;34m=\u001b[0m \u001b[0mint\u001b[0m\u001b[0;34m(\u001b[0m\u001b[0mteam\u001b[0m\u001b[0;34m)\u001b[0m\u001b[0;34m\u001b[0m\u001b[0;34m\u001b[0m\u001b[0m\n\u001b[1;32m      6\u001b[0m         \u001b[0midx\u001b[0m \u001b[0;34m=\u001b[0m \u001b[0mint\u001b[0m\u001b[0;34m(\u001b[0m\u001b[0midx\u001b[0m\u001b[0;34m)\u001b[0m\u001b[0;34m\u001b[0m\u001b[0;34m\u001b[0m\u001b[0m\n",
      "\u001b[0;31mValueError\u001b[0m: not enough values to unpack (expected 5, got 4)"
     ]
    }
   ],
   "source": [
    "rows = []\n",
    "with open('graphs.txt') as f:\n",
    "    for line in f:\n",
    "        name,team,idx,score,matrix = line.split('\\t')\n",
    "        team = int(team)\n",
    "        idx = int(idx)\n",
    "        score = int(score)\n",
    "\n",
    "        A,b,x = matrix.split(':')\n",
    "        \n",
    "        plants = {}\n",
    "        sizes = {}\n",
    "        for row, datum in enumerate(b.split(',')):\n",
    "            val = float(datum)\n",
    "            if val < 0:\n",
    "                plants[row] = True\n",
    "                sizes[row] = (-val/r0) ** (1/(beta-1))\n",
    "            else:\n",
    "                plants[row] = True\n",
    "                sizes[row] = (val/z0) ** (1/(beta-1))\n",
    "        print(sizes)\n",
    "            \n",
    "        intras = {}\n",
    "        G = nx.DiGraph()\n",
    "        for row, data in enumerate(A.split(';')):\n",
    "            for col, datum in enumerate(data.split(',')):\n",
    "                val = float(datum)\n",
    "                if row == col:\n",
    "                    intras[row] = val\n",
    "                elif val != 0:\n",
    "                    G.add_edge(row,col) # TODO: edge attribute\n",
    "        \n",
    "#         print(sizes)\n",
    "#         print(intras)\n",
    "        print(G.edges)\n",
    "#         break\n",
    "        \n",
    "        rows.append([name,team,idx,score,G])\n",
    "        \n",
    "df = pd.DataFrame(rows, columns=['username','team','level_idx','score','Graph'])\n",
    "df.head()\n",
    "        "
   ]
  },
  {
   "cell_type": "code",
   "execution_count": null,
   "metadata": {},
   "outputs": [],
   "source": []
  }
 ],
 "metadata": {
  "kernelspec": {
   "display_name": "Python 3",
   "language": "python",
   "name": "python3"
  },
  "language_info": {
   "codemirror_mode": {
    "name": "ipython",
    "version": 3
   },
   "file_extension": ".py",
   "mimetype": "text/x-python",
   "name": "python",
   "nbconvert_exporter": "python",
   "pygments_lexer": "ipython3",
   "version": "3.6.9"
  }
 },
 "nbformat": 4,
 "nbformat_minor": 4
}
