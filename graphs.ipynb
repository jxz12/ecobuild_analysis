{
 "cells": [
  {
   "cell_type": "code",
   "execution_count": null,
   "metadata": {},
   "outputs": [],
   "source": [
    "\"\"\"\n",
    "SELECT c.username, c.team, a.level_index, b.matrix\n",
    "  FROM leaderboards AS a\n",
    "  JOIN playthroughs AS b ON a.play_id=b.play_id\n",
    "  JOIN players AS c ON a.username=c.username\n",
    "  WHERE a.level_index>100\n",
    "  ORDER BY a.score\n",
    "  LIMIT 10\n",
    "  INTO OUTFILE 'C:/ProgramData/MySQL/MySQL Server 8.0/Uploads/foo.txt';\n",
    "\"\"\""
   ]
  },
  {
   "cell_type": "code",
   "execution_count": null,
   "metadata": {},
   "outputs": [],
   "source": [
    "df_rows = []\n",
    "with open('times.txt') as f:\n",
    "    for line in f:\n",
    "        name,team,matrix = line.split('\\t')\n",
    "        team = int(team)\n",
    "        level = int(level)\n",
    "        df_rows.append([name, team, level, total_time, n_actions, G])\n",
    "        \n",
    "        A,b,x = matrix.split(':')\n",
    "        G = nx.DiGraph()\n",
    "        for row in A.split(';'):\n",
    "            for cell in row.splot(','):\n",
    "                val = float(cell)\n",
    "                if val != 0:\n",
    "                    G.Add\n",
    "        \n",
    "df = pd.DataFrame(rows, columns=['username','team','level','time','n_actions', G])"
   ]
  }
 ],
 "metadata": {
  "kernelspec": {
   "display_name": "Python 3",
   "language": "python",
   "name": "python3"
  },
  "language_info": {
   "codemirror_mode": {
    "name": "ipython",
    "version": 3
   },
   "file_extension": ".py",
   "mimetype": "text/x-python",
   "name": "python",
   "nbconvert_exporter": "python",
   "pygments_lexer": "ipython3",
   "version": "3.6.9"
  }
 },
 "nbformat": 4,
 "nbformat_minor": 4
}
